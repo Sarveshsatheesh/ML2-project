{
 "cells": [
  {
   "cell_type": "markdown",
   "metadata": {
    "id": "XEAapEIQKvvi"
   },
   "source": [
    "# Surface Crack Prediction"
   ]
  },
  {
   "cell_type": "code",
   "execution_count": 1,
   "metadata": {
    "id": "u2LvIviuTKZL"
   },
   "outputs": [],
   "source": [
    "# Required modules\n",
    "\n",
    "import os\n",
    "import glob\n",
    "import numpy as np\n",
    "import pandas as pd\n",
    "import tensorflow as tf\n",
    "\n",
    "from PIL import Image\n",
    "from zipfile import ZipFile\n",
    "from matplotlib import pyplot as plt\n",
    "\n",
    "%matplotlib inline\n",
    "plt.rcParams['figure.figsize'] = (12, 7)"
   ]
  },
  {
   "cell_type": "code",
   "execution_count": 32,
   "metadata": {
    "colab": {
     "base_uri": "https://localhost:8080/",
     "height": 52
    },
    "id": "t-xQca8qUC64",
    "outputId": "0bafd8c3-0fc9-434b-cc78-2389fe155da1"
   },
   "outputs": [
    {
     "name": "stdout",
     "output_type": "stream",
     "text": [
      "Found 15000 images belonging to 2 classes.\n",
      "Found 5000 images belonging to 2 classes.\n"
     ]
    }
   ],
   "source": [
    "# Dividing into train and validation split\n",
    "\n",
    "img_h = 300\n",
    "img_w = 300\n",
    "\n",
    "datagen = tf.keras.preprocessing.image.ImageDataGenerator(\n",
    "    rescale = 1/255.,\n",
    "    horizontal_flip = True,\n",
    "    vertical_flip = True,\n",
    "    validation_split = 0.5\n",
    ")\n",
    "\n",
    "train = datagen.flow_from_directory(\n",
    "    r\"D:\\sem 03\\ML Project\\crack_detection\\data\\train\",\n",
    "    seed = 88,\n",
    "    subset = 'training',\n",
    "    batch_size = 32\n",
    ")\n",
    "\n",
    "valid = datagen.flow_from_directory(\n",
    "    r\"D:\\sem 03\\ML Project\\crack_detection\\data\\validation\",\n",
    "    seed = 88,\n",
    "    subset = 'validation',\n",
    ",   batch_size = 32\n",
    ")"
   ]
  },
  {
   "cell_type": "code",
   "execution_count": 33,
   "metadata": {},
   "outputs": [],
   "source": [
    "conv_model = tf.keras.models.Sequential([\n",
    "    tf.keras.layers.Conv2D(input_shape=(img_h, img_w, 3), filters=32, padding='same', kernel_size=3, activation='swish'),\n",
    "    tf.keras.layers.Conv2D(filters=32, padding='same', kernel_size=3, activation='swish'),\n",
    "    tf.keras.layers.Conv2D(filters=128, padding='same', kernel_size=3, activation='swish'),\n",
    "    tf.keras.layers.BatchNormalization(),\n",
    "    tf.keras.layers.MaxPooling2D(),\n",
    "    tf.keras.layers.Dropout(0.2),\n",
    "    tf.keras.layers.Conv2D(filters=64, padding='same', kernel_size=3, activation='swish'),\n",
    "    tf.keras.layers.Conv2D(filters=64, padding='same', kernel_size=3, activation='swish'),\n",
    "    tf.keras.layers.Conv2D(filters=64, padding='same', kernel_size=3, activation='swish'),\n",
    "    tf.keras.layers.BatchNormalization(),\n",
    "    tf.keras.layers.MaxPooling2D(),\n",
    "    tf.keras.layers.Dropout(0.2),\n",
    "    tf.keras.layers.Flatten(),\n",
    "    tf.keras.layers.Dense(128, activation='swish'),\n",
    "    tf.keras.layers.Dropout(0.2),\n",
    "    tf.keras.layers.Dense(2, activation='softmax'),\n",
    "])"
   ]
  },
  {
   "cell_type": "code",
   "execution_count": 34,
   "metadata": {
    "colab": {
     "base_uri": "https://localhost:8080/",
     "height": 72
    },
    "id": "0VuPLbQwMENT",
    "outputId": "0f7683e7-5a83-4009-f02e-956350db1593"
   },
   "outputs": [],
   "source": [
    "# Pre-trained model\n",
    "\n",
    "in_layer = tf.keras.layers.Input(shape=(None, None, 3))\n",
    "xception = tf.keras.applications.xception.Xception(include_top=False, weights='imagenet', input_tensor=in_layer)\n",
    "\n",
    "for layer in xception.layers:\n",
    "    layer.trainable = False\n",
    "\n",
    "inter = tf.keras.layers.GlobalMaxPooling2D()(xception.output)\n",
    "flatten = tf.keras.layers.Flatten()(inter)\n",
    "dense1 = tf.keras.layers.Dense(512, activation='relu')(flatten)\n",
    "dense2 = tf.keras.layers.Dense(256, activation='relu')(dense1)\n",
    "dense3 = tf.keras.layers.Dense(128, activation='relu')(dense2)\n",
    "output = tf.keras.layers.Dense(2, activation='softmax')(dense3)\n",
    "\n",
    "xception = tf.keras.models.Model(inputs=xception.inputs, outputs=output)"
   ]
  },
  {
   "cell_type": "markdown",
   "metadata": {},
   "source": [
    "## For the pre-trained model\n",
    "https://dockship.io/notebooks/60ba40b67354863913633025/boat-type-classification-ai-challenge-peddi-anurag-notebook\n",
    "https://data-science-blog.com/blog/2022/04/11/how-to-choose-the-best-pre-trained-model-for-your-convolutional-neural-network/\n",
    "https://medium.com/@draj0718/image-classification-and-prediction-using-transfer-learning-3cf2c736589d"
   ]
  },
  {
   "cell_type": "code",
   "execution_count": 35,
   "metadata": {
    "id": "2sYFzKF1bmOA"
   },
   "outputs": [],
   "source": [
    "model = xception"
   ]
  },
  {
   "cell_type": "code",
   "execution_count": 36,
   "metadata": {
    "id": "6lc1FSB1bkd4"
   },
   "outputs": [],
   "source": [
    "initial_lr = 0.01\n",
    "\n",
    "\n",
    "lr_scheduler = tf.keras.optimizers.schedules.ExponentialDecay(\n",
    "    initial_lr,\n",
    "    decay_steps=25,\n",
    "    decay_rate=0.96,\n",
    "    staircase=True\n",
    ")"
   ]
  },
  {
   "cell_type": "code",
   "execution_count": 37,
   "metadata": {
    "id": "ei_84U5kbqws"
   },
   "outputs": [],
   "source": [
    "# Defining callbacks\n",
    "\n",
    "early_stopping = tf.keras.callbacks.EarlyStopping(monitor='val_acc', mode='max', patience=10, verbose=0)\n",
    "checkpoint = tf.keras.callbacks.ModelCheckpoint('model_weights.hdf5', monitor='val_acc', mode='max', save_weights_only=True, verbose=0)\n",
    "\n",
    "callbacks = [checkpoint, early_stopping]\n"
   ]
  },
  {
   "cell_type": "code",
   "execution_count": 38,
   "metadata": {
    "id": "wn-kXBQcbuf6"
   },
   "outputs": [],
   "source": [
    "# Defining optimizer and loss functions\n",
    "\n",
    "#optim = tf.keras.optimizers.RMSprop(learning_rate=lr_scheduler)\n",
    "optim = tf.keras.optimizers.Adam(learning_rate=lr_scheduler)\n",
    "loss_funct = 'CategoricalCrossentropy'\n",
    "\n",
    "model.compile(optimizer=optim, loss=loss_funct, metrics=['acc'])"
   ]
  },
  {
   "cell_type": "code",
   "execution_count": 39,
   "metadata": {
    "colab": {
     "base_uri": "https://localhost:8080/",
     "height": 1000
    },
    "id": "e4K4Ny2cch2i",
    "outputId": "712f00f5-3c49-4ae1-f4f1-2032b7b0b133"
   },
   "outputs": [
    {
     "name": "stdout",
     "output_type": "stream",
     "text": [
      "Model: \"model_3\"\n",
      "__________________________________________________________________________________________________\n",
      " Layer (type)                   Output Shape         Param #     Connected to                     \n",
      "==================================================================================================\n",
      " input_4 (InputLayer)           [(None, None, None,  0           []                               \n",
      "                                 3)]                                                              \n",
      "                                                                                                  \n",
      " block1_conv1 (Conv2D)          (None, None, None,   864         ['input_4[0][0]']                \n",
      "                                32)                                                               \n",
      "                                                                                                  \n",
      " block1_conv1_bn (BatchNormaliz  (None, None, None,   128        ['block1_conv1[0][0]']           \n",
      " ation)                         32)                                                               \n",
      "                                                                                                  \n",
      " block1_conv1_act (Activation)  (None, None, None,   0           ['block1_conv1_bn[0][0]']        \n",
      "                                32)                                                               \n",
      "                                                                                                  \n",
      " block1_conv2 (Conv2D)          (None, None, None,   18432       ['block1_conv1_act[0][0]']       \n",
      "                                64)                                                               \n",
      "                                                                                                  \n",
      " block1_conv2_bn (BatchNormaliz  (None, None, None,   256        ['block1_conv2[0][0]']           \n",
      " ation)                         64)                                                               \n",
      "                                                                                                  \n",
      " block1_conv2_act (Activation)  (None, None, None,   0           ['block1_conv2_bn[0][0]']        \n",
      "                                64)                                                               \n",
      "                                                                                                  \n",
      " block2_sepconv1 (SeparableConv  (None, None, None,   8768       ['block1_conv2_act[0][0]']       \n",
      " 2D)                            128)                                                              \n",
      "                                                                                                  \n",
      " block2_sepconv1_bn (BatchNorma  (None, None, None,   512        ['block2_sepconv1[0][0]']        \n",
      " lization)                      128)                                                              \n",
      "                                                                                                  \n",
      " block2_sepconv2_act (Activatio  (None, None, None,   0          ['block2_sepconv1_bn[0][0]']     \n",
      " n)                             128)                                                              \n",
      "                                                                                                  \n",
      " block2_sepconv2 (SeparableConv  (None, None, None,   17536      ['block2_sepconv2_act[0][0]']    \n",
      " 2D)                            128)                                                              \n",
      "                                                                                                  \n",
      " block2_sepconv2_bn (BatchNorma  (None, None, None,   512        ['block2_sepconv2[0][0]']        \n",
      " lization)                      128)                                                              \n",
      "                                                                                                  \n",
      " conv2d_30 (Conv2D)             (None, None, None,   8192        ['block1_conv2_act[0][0]']       \n",
      "                                128)                                                              \n",
      "                                                                                                  \n",
      " block2_pool (MaxPooling2D)     (None, None, None,   0           ['block2_sepconv2_bn[0][0]']     \n",
      "                                128)                                                              \n",
      "                                                                                                  \n",
      " batch_normalization_18 (BatchN  (None, None, None,   512        ['conv2d_30[0][0]']              \n",
      " ormalization)                  128)                                                              \n",
      "                                                                                                  \n",
      " add_36 (Add)                   (None, None, None,   0           ['block2_pool[0][0]',            \n",
      "                                128)                              'batch_normalization_18[0][0]'] \n",
      "                                                                                                  \n",
      " block3_sepconv1_act (Activatio  (None, None, None,   0          ['add_36[0][0]']                 \n",
      " n)                             128)                                                              \n",
      "                                                                                                  \n",
      " block3_sepconv1 (SeparableConv  (None, None, None,   33920      ['block3_sepconv1_act[0][0]']    \n",
      " 2D)                            256)                                                              \n",
      "                                                                                                  \n",
      " block3_sepconv1_bn (BatchNorma  (None, None, None,   1024       ['block3_sepconv1[0][0]']        \n",
      " lization)                      256)                                                              \n",
      "                                                                                                  \n",
      " block3_sepconv2_act (Activatio  (None, None, None,   0          ['block3_sepconv1_bn[0][0]']     \n",
      " n)                             256)                                                              \n",
      "                                                                                                  \n",
      " block3_sepconv2 (SeparableConv  (None, None, None,   67840      ['block3_sepconv2_act[0][0]']    \n",
      " 2D)                            256)                                                              \n",
      "                                                                                                  \n",
      " block3_sepconv2_bn (BatchNorma  (None, None, None,   1024       ['block3_sepconv2[0][0]']        \n",
      " lization)                      256)                                                              \n",
      "                                                                                                  \n",
      " conv2d_31 (Conv2D)             (None, None, None,   32768       ['add_36[0][0]']                 \n",
      "                                256)                                                              \n",
      "                                                                                                  \n",
      " block3_pool (MaxPooling2D)     (None, None, None,   0           ['block3_sepconv2_bn[0][0]']     \n",
      "                                256)                                                              \n",
      "                                                                                                  \n",
      " batch_normalization_19 (BatchN  (None, None, None,   1024       ['conv2d_31[0][0]']              \n",
      " ormalization)                  256)                                                              \n",
      "                                                                                                  \n",
      " add_37 (Add)                   (None, None, None,   0           ['block3_pool[0][0]',            \n",
      "                                256)                              'batch_normalization_19[0][0]'] \n",
      "                                                                                                  \n",
      " block4_sepconv1_act (Activatio  (None, None, None,   0          ['add_37[0][0]']                 \n",
      " n)                             256)                                                              \n",
      "                                                                                                  \n",
      " block4_sepconv1 (SeparableConv  (None, None, None,   188672     ['block4_sepconv1_act[0][0]']    \n",
      " 2D)                            728)                                                              \n",
      "                                                                                                  \n",
      " block4_sepconv1_bn (BatchNorma  (None, None, None,   2912       ['block4_sepconv1[0][0]']        \n",
      " lization)                      728)                                                              \n",
      "                                                                                                  \n",
      " block4_sepconv2_act (Activatio  (None, None, None,   0          ['block4_sepconv1_bn[0][0]']     \n",
      " n)                             728)                                                              \n",
      "                                                                                                  \n",
      " block4_sepconv2 (SeparableConv  (None, None, None,   536536     ['block4_sepconv2_act[0][0]']    \n",
      " 2D)                            728)                                                              \n",
      "                                                                                                  \n",
      " block4_sepconv2_bn (BatchNorma  (None, None, None,   2912       ['block4_sepconv2[0][0]']        \n",
      " lization)                      728)                                                              \n",
      "                                                                                                  \n",
      " conv2d_32 (Conv2D)             (None, None, None,   186368      ['add_37[0][0]']                 \n",
      "                                728)                                                              \n",
      "                                                                                                  \n",
      " block4_pool (MaxPooling2D)     (None, None, None,   0           ['block4_sepconv2_bn[0][0]']     \n",
      "                                728)                                                              \n",
      "                                                                                                  \n",
      " batch_normalization_20 (BatchN  (None, None, None,   2912       ['conv2d_32[0][0]']              \n",
      " ormalization)                  728)                                                              \n",
      "                                                                                                  \n",
      " add_38 (Add)                   (None, None, None,   0           ['block4_pool[0][0]',            \n",
      "                                728)                              'batch_normalization_20[0][0]'] \n",
      "                                                                                                  \n",
      " block5_sepconv1_act (Activatio  (None, None, None,   0          ['add_38[0][0]']                 \n",
      " n)                             728)                                                              \n",
      "                                                                                                  \n",
      " block5_sepconv1 (SeparableConv  (None, None, None,   536536     ['block5_sepconv1_act[0][0]']    \n",
      " 2D)                            728)                                                              \n",
      "                                                                                                  \n",
      " block5_sepconv1_bn (BatchNorma  (None, None, None,   2912       ['block5_sepconv1[0][0]']        \n",
      " lization)                      728)                                                              \n",
      "                                                                                                  \n",
      " block5_sepconv2_act (Activatio  (None, None, None,   0          ['block5_sepconv1_bn[0][0]']     \n",
      " n)                             728)                                                              \n",
      "                                                                                                  \n",
      " block5_sepconv2 (SeparableConv  (None, None, None,   536536     ['block5_sepconv2_act[0][0]']    \n",
      " 2D)                            728)                                                              \n",
      "                                                                                                  \n",
      " block5_sepconv2_bn (BatchNorma  (None, None, None,   2912       ['block5_sepconv2[0][0]']        \n",
      " lization)                      728)                                                              \n",
      "                                                                                                  \n",
      " block5_sepconv3_act (Activatio  (None, None, None,   0          ['block5_sepconv2_bn[0][0]']     \n",
      " n)                             728)                                                              \n",
      "                                                                                                  \n",
      " block5_sepconv3 (SeparableConv  (None, None, None,   536536     ['block5_sepconv3_act[0][0]']    \n",
      " 2D)                            728)                                                              \n",
      "                                                                                                  \n",
      " block5_sepconv3_bn (BatchNorma  (None, None, None,   2912       ['block5_sepconv3[0][0]']        \n",
      " lization)                      728)                                                              \n",
      "                                                                                                  \n",
      " add_39 (Add)                   (None, None, None,   0           ['block5_sepconv3_bn[0][0]',     \n",
      "                                728)                              'add_38[0][0]']                 \n",
      "                                                                                                  \n",
      " block6_sepconv1_act (Activatio  (None, None, None,   0          ['add_39[0][0]']                 \n",
      " n)                             728)                                                              \n",
      "                                                                                                  \n",
      " block6_sepconv1 (SeparableConv  (None, None, None,   536536     ['block6_sepconv1_act[0][0]']    \n",
      " 2D)                            728)                                                              \n",
      "                                                                                                  \n",
      " block6_sepconv1_bn (BatchNorma  (None, None, None,   2912       ['block6_sepconv1[0][0]']        \n",
      " lization)                      728)                                                              \n",
      "                                                                                                  \n",
      " block6_sepconv2_act (Activatio  (None, None, None,   0          ['block6_sepconv1_bn[0][0]']     \n",
      " n)                             728)                                                              \n",
      "                                                                                                  \n",
      " block6_sepconv2 (SeparableConv  (None, None, None,   536536     ['block6_sepconv2_act[0][0]']    \n",
      " 2D)                            728)                                                              \n",
      "                                                                                                  \n",
      " block6_sepconv2_bn (BatchNorma  (None, None, None,   2912       ['block6_sepconv2[0][0]']        \n",
      " lization)                      728)                                                              \n",
      "                                                                                                  \n",
      " block6_sepconv3_act (Activatio  (None, None, None,   0          ['block6_sepconv2_bn[0][0]']     \n",
      " n)                             728)                                                              \n",
      "                                                                                                  \n",
      " block6_sepconv3 (SeparableConv  (None, None, None,   536536     ['block6_sepconv3_act[0][0]']    \n",
      " 2D)                            728)                                                              \n",
      "                                                                                                  \n",
      " block6_sepconv3_bn (BatchNorma  (None, None, None,   2912       ['block6_sepconv3[0][0]']        \n",
      " lization)                      728)                                                              \n",
      "                                                                                                  \n",
      " add_40 (Add)                   (None, None, None,   0           ['block6_sepconv3_bn[0][0]',     \n",
      "                                728)                              'add_39[0][0]']                 \n",
      "                                                                                                  \n",
      " block7_sepconv1_act (Activatio  (None, None, None,   0          ['add_40[0][0]']                 \n",
      " n)                             728)                                                              \n",
      "                                                                                                  \n",
      " block7_sepconv1 (SeparableConv  (None, None, None,   536536     ['block7_sepconv1_act[0][0]']    \n",
      " 2D)                            728)                                                              \n",
      "                                                                                                  \n",
      " block7_sepconv1_bn (BatchNorma  (None, None, None,   2912       ['block7_sepconv1[0][0]']        \n",
      " lization)                      728)                                                              \n",
      "                                                                                                  \n",
      " block7_sepconv2_act (Activatio  (None, None, None,   0          ['block7_sepconv1_bn[0][0]']     \n",
      " n)                             728)                                                              \n",
      "                                                                                                  \n",
      " block7_sepconv2 (SeparableConv  (None, None, None,   536536     ['block7_sepconv2_act[0][0]']    \n",
      " 2D)                            728)                                                              \n",
      "                                                                                                  \n",
      " block7_sepconv2_bn (BatchNorma  (None, None, None,   2912       ['block7_sepconv2[0][0]']        \n",
      " lization)                      728)                                                              \n",
      "                                                                                                  \n",
      " block7_sepconv3_act (Activatio  (None, None, None,   0          ['block7_sepconv2_bn[0][0]']     \n",
      " n)                             728)                                                              \n",
      "                                                                                                  \n",
      " block7_sepconv3 (SeparableConv  (None, None, None,   536536     ['block7_sepconv3_act[0][0]']    \n",
      " 2D)                            728)                                                              \n",
      "                                                                                                  \n",
      " block7_sepconv3_bn (BatchNorma  (None, None, None,   2912       ['block7_sepconv3[0][0]']        \n",
      " lization)                      728)                                                              \n",
      "                                                                                                  \n",
      " add_41 (Add)                   (None, None, None,   0           ['block7_sepconv3_bn[0][0]',     \n",
      "                                728)                              'add_40[0][0]']                 \n",
      "                                                                                                  \n",
      " block8_sepconv1_act (Activatio  (None, None, None,   0          ['add_41[0][0]']                 \n",
      " n)                             728)                                                              \n",
      "                                                                                                  \n",
      " block8_sepconv1 (SeparableConv  (None, None, None,   536536     ['block8_sepconv1_act[0][0]']    \n",
      " 2D)                            728)                                                              \n",
      "                                                                                                  \n",
      " block8_sepconv1_bn (BatchNorma  (None, None, None,   2912       ['block8_sepconv1[0][0]']        \n",
      " lization)                      728)                                                              \n",
      "                                                                                                  \n",
      " block8_sepconv2_act (Activatio  (None, None, None,   0          ['block8_sepconv1_bn[0][0]']     \n",
      " n)                             728)                                                              \n",
      "                                                                                                  \n",
      " block8_sepconv2 (SeparableConv  (None, None, None,   536536     ['block8_sepconv2_act[0][0]']    \n",
      " 2D)                            728)                                                              \n",
      "                                                                                                  \n",
      " block8_sepconv2_bn (BatchNorma  (None, None, None,   2912       ['block8_sepconv2[0][0]']        \n",
      " lization)                      728)                                                              \n",
      "                                                                                                  \n",
      " block8_sepconv3_act (Activatio  (None, None, None,   0          ['block8_sepconv2_bn[0][0]']     \n",
      " n)                             728)                                                              \n",
      "                                                                                                  \n",
      " block8_sepconv3 (SeparableConv  (None, None, None,   536536     ['block8_sepconv3_act[0][0]']    \n",
      " 2D)                            728)                                                              \n",
      "                                                                                                  \n",
      " block8_sepconv3_bn (BatchNorma  (None, None, None,   2912       ['block8_sepconv3[0][0]']        \n",
      " lization)                      728)                                                              \n",
      "                                                                                                  \n",
      " add_42 (Add)                   (None, None, None,   0           ['block8_sepconv3_bn[0][0]',     \n",
      "                                728)                              'add_41[0][0]']                 \n",
      "                                                                                                  \n",
      " block9_sepconv1_act (Activatio  (None, None, None,   0          ['add_42[0][0]']                 \n",
      " n)                             728)                                                              \n",
      "                                                                                                  \n",
      " block9_sepconv1 (SeparableConv  (None, None, None,   536536     ['block9_sepconv1_act[0][0]']    \n",
      " 2D)                            728)                                                              \n",
      "                                                                                                  \n",
      " block9_sepconv1_bn (BatchNorma  (None, None, None,   2912       ['block9_sepconv1[0][0]']        \n",
      " lization)                      728)                                                              \n",
      "                                                                                                  \n",
      " block9_sepconv2_act (Activatio  (None, None, None,   0          ['block9_sepconv1_bn[0][0]']     \n",
      " n)                             728)                                                              \n",
      "                                                                                                  \n",
      " block9_sepconv2 (SeparableConv  (None, None, None,   536536     ['block9_sepconv2_act[0][0]']    \n",
      " 2D)                            728)                                                              \n",
      "                                                                                                  \n",
      " block9_sepconv2_bn (BatchNorma  (None, None, None,   2912       ['block9_sepconv2[0][0]']        \n",
      " lization)                      728)                                                              \n",
      "                                                                                                  \n",
      " block9_sepconv3_act (Activatio  (None, None, None,   0          ['block9_sepconv2_bn[0][0]']     \n",
      " n)                             728)                                                              \n",
      "                                                                                                  \n",
      " block9_sepconv3 (SeparableConv  (None, None, None,   536536     ['block9_sepconv3_act[0][0]']    \n",
      " 2D)                            728)                                                              \n",
      "                                                                                                  \n",
      " block9_sepconv3_bn (BatchNorma  (None, None, None,   2912       ['block9_sepconv3[0][0]']        \n",
      " lization)                      728)                                                              \n",
      "                                                                                                  \n",
      " add_43 (Add)                   (None, None, None,   0           ['block9_sepconv3_bn[0][0]',     \n",
      "                                728)                              'add_42[0][0]']                 \n",
      "                                                                                                  \n",
      " block10_sepconv1_act (Activati  (None, None, None,   0          ['add_43[0][0]']                 \n",
      " on)                            728)                                                              \n",
      "                                                                                                  \n",
      " block10_sepconv1 (SeparableCon  (None, None, None,   536536     ['block10_sepconv1_act[0][0]']   \n",
      " v2D)                           728)                                                              \n",
      "                                                                                                  \n",
      " block10_sepconv1_bn (BatchNorm  (None, None, None,   2912       ['block10_sepconv1[0][0]']       \n",
      " alization)                     728)                                                              \n",
      "                                                                                                  \n",
      " block10_sepconv2_act (Activati  (None, None, None,   0          ['block10_sepconv1_bn[0][0]']    \n",
      " on)                            728)                                                              \n",
      "                                                                                                  \n",
      " block10_sepconv2 (SeparableCon  (None, None, None,   536536     ['block10_sepconv2_act[0][0]']   \n",
      " v2D)                           728)                                                              \n",
      "                                                                                                  \n",
      " block10_sepconv2_bn (BatchNorm  (None, None, None,   2912       ['block10_sepconv2[0][0]']       \n",
      " alization)                     728)                                                              \n",
      "                                                                                                  \n",
      " block10_sepconv3_act (Activati  (None, None, None,   0          ['block10_sepconv2_bn[0][0]']    \n",
      " on)                            728)                                                              \n",
      "                                                                                                  \n",
      " block10_sepconv3 (SeparableCon  (None, None, None,   536536     ['block10_sepconv3_act[0][0]']   \n",
      " v2D)                           728)                                                              \n",
      "                                                                                                  \n",
      " block10_sepconv3_bn (BatchNorm  (None, None, None,   2912       ['block10_sepconv3[0][0]']       \n",
      " alization)                     728)                                                              \n",
      "                                                                                                  \n",
      " add_44 (Add)                   (None, None, None,   0           ['block10_sepconv3_bn[0][0]',    \n",
      "                                728)                              'add_43[0][0]']                 \n",
      "                                                                                                  \n",
      " block11_sepconv1_act (Activati  (None, None, None,   0          ['add_44[0][0]']                 \n",
      " on)                            728)                                                              \n",
      "                                                                                                  \n",
      " block11_sepconv1 (SeparableCon  (None, None, None,   536536     ['block11_sepconv1_act[0][0]']   \n",
      " v2D)                           728)                                                              \n",
      "                                                                                                  \n",
      " block11_sepconv1_bn (BatchNorm  (None, None, None,   2912       ['block11_sepconv1[0][0]']       \n",
      " alization)                     728)                                                              \n",
      "                                                                                                  \n",
      " block11_sepconv2_act (Activati  (None, None, None,   0          ['block11_sepconv1_bn[0][0]']    \n",
      " on)                            728)                                                              \n",
      "                                                                                                  \n",
      " block11_sepconv2 (SeparableCon  (None, None, None,   536536     ['block11_sepconv2_act[0][0]']   \n",
      " v2D)                           728)                                                              \n",
      "                                                                                                  \n",
      " block11_sepconv2_bn (BatchNorm  (None, None, None,   2912       ['block11_sepconv2[0][0]']       \n",
      " alization)                     728)                                                              \n",
      "                                                                                                  \n",
      " block11_sepconv3_act (Activati  (None, None, None,   0          ['block11_sepconv2_bn[0][0]']    \n",
      " on)                            728)                                                              \n",
      "                                                                                                  \n",
      " block11_sepconv3 (SeparableCon  (None, None, None,   536536     ['block11_sepconv3_act[0][0]']   \n",
      " v2D)                           728)                                                              \n",
      "                                                                                                  \n",
      " block11_sepconv3_bn (BatchNorm  (None, None, None,   2912       ['block11_sepconv3[0][0]']       \n",
      " alization)                     728)                                                              \n",
      "                                                                                                  \n",
      " add_45 (Add)                   (None, None, None,   0           ['block11_sepconv3_bn[0][0]',    \n",
      "                                728)                              'add_44[0][0]']                 \n",
      "                                                                                                  \n",
      " block12_sepconv1_act (Activati  (None, None, None,   0          ['add_45[0][0]']                 \n",
      " on)                            728)                                                              \n",
      "                                                                                                  \n",
      " block12_sepconv1 (SeparableCon  (None, None, None,   536536     ['block12_sepconv1_act[0][0]']   \n",
      " v2D)                           728)                                                              \n",
      "                                                                                                  \n",
      " block12_sepconv1_bn (BatchNorm  (None, None, None,   2912       ['block12_sepconv1[0][0]']       \n",
      " alization)                     728)                                                              \n",
      "                                                                                                  \n",
      " block12_sepconv2_act (Activati  (None, None, None,   0          ['block12_sepconv1_bn[0][0]']    \n",
      " on)                            728)                                                              \n",
      "                                                                                                  \n",
      " block12_sepconv2 (SeparableCon  (None, None, None,   536536     ['block12_sepconv2_act[0][0]']   \n",
      " v2D)                           728)                                                              \n",
      "                                                                                                  \n",
      " block12_sepconv2_bn (BatchNorm  (None, None, None,   2912       ['block12_sepconv2[0][0]']       \n",
      " alization)                     728)                                                              \n",
      "                                                                                                  \n",
      " block12_sepconv3_act (Activati  (None, None, None,   0          ['block12_sepconv2_bn[0][0]']    \n",
      " on)                            728)                                                              \n",
      "                                                                                                  \n",
      " block12_sepconv3 (SeparableCon  (None, None, None,   536536     ['block12_sepconv3_act[0][0]']   \n",
      " v2D)                           728)                                                              \n",
      "                                                                                                  \n",
      " block12_sepconv3_bn (BatchNorm  (None, None, None,   2912       ['block12_sepconv3[0][0]']       \n",
      " alization)                     728)                                                              \n",
      "                                                                                                  \n",
      " add_46 (Add)                   (None, None, None,   0           ['block12_sepconv3_bn[0][0]',    \n",
      "                                728)                              'add_45[0][0]']                 \n",
      "                                                                                                  \n",
      " block13_sepconv1_act (Activati  (None, None, None,   0          ['add_46[0][0]']                 \n",
      " on)                            728)                                                              \n",
      "                                                                                                  \n",
      " block13_sepconv1 (SeparableCon  (None, None, None,   536536     ['block13_sepconv1_act[0][0]']   \n",
      " v2D)                           728)                                                              \n",
      "                                                                                                  \n",
      " block13_sepconv1_bn (BatchNorm  (None, None, None,   2912       ['block13_sepconv1[0][0]']       \n",
      " alization)                     728)                                                              \n",
      "                                                                                                  \n",
      " block13_sepconv2_act (Activati  (None, None, None,   0          ['block13_sepconv1_bn[0][0]']    \n",
      " on)                            728)                                                              \n",
      "                                                                                                  \n",
      " block13_sepconv2 (SeparableCon  (None, None, None,   752024     ['block13_sepconv2_act[0][0]']   \n",
      " v2D)                           1024)                                                             \n",
      "                                                                                                  \n",
      " block13_sepconv2_bn (BatchNorm  (None, None, None,   4096       ['block13_sepconv2[0][0]']       \n",
      " alization)                     1024)                                                             \n",
      "                                                                                                  \n",
      " conv2d_33 (Conv2D)             (None, None, None,   745472      ['add_46[0][0]']                 \n",
      "                                1024)                                                             \n",
      "                                                                                                  \n",
      " block13_pool (MaxPooling2D)    (None, None, None,   0           ['block13_sepconv2_bn[0][0]']    \n",
      "                                1024)                                                             \n",
      "                                                                                                  \n",
      " batch_normalization_21 (BatchN  (None, None, None,   4096       ['conv2d_33[0][0]']              \n",
      " ormalization)                  1024)                                                             \n",
      "                                                                                                  \n",
      " add_47 (Add)                   (None, None, None,   0           ['block13_pool[0][0]',           \n",
      "                                1024)                             'batch_normalization_21[0][0]'] \n",
      "                                                                                                  \n",
      " block14_sepconv1 (SeparableCon  (None, None, None,   1582080    ['add_47[0][0]']                 \n",
      " v2D)                           1536)                                                             \n",
      "                                                                                                  \n",
      " block14_sepconv1_bn (BatchNorm  (None, None, None,   6144       ['block14_sepconv1[0][0]']       \n",
      " alization)                     1536)                                                             \n",
      "                                                                                                  \n",
      " block14_sepconv1_act (Activati  (None, None, None,   0          ['block14_sepconv1_bn[0][0]']    \n",
      " on)                            1536)                                                             \n",
      "                                                                                                  \n",
      " block14_sepconv2 (SeparableCon  (None, None, None,   3159552    ['block14_sepconv1_act[0][0]']   \n",
      " v2D)                           2048)                                                             \n",
      "                                                                                                  \n",
      " block14_sepconv2_bn (BatchNorm  (None, None, None,   8192       ['block14_sepconv2[0][0]']       \n",
      " alization)                     2048)                                                             \n",
      "                                                                                                  \n",
      " block14_sepconv2_act (Activati  (None, None, None,   0          ['block14_sepconv2_bn[0][0]']    \n",
      " on)                            2048)                                                             \n",
      "                                                                                                  \n",
      " global_max_pooling2d_3 (Global  (None, 2048)        0           ['block14_sepconv2_act[0][0]']   \n",
      " MaxPooling2D)                                                                                    \n",
      "                                                                                                  \n",
      " flatten_6 (Flatten)            (None, 2048)         0           ['global_max_pooling2d_3[0][0]'] \n",
      "                                                                                                  \n",
      " dense_18 (Dense)               (None, 512)          1049088     ['flatten_6[0][0]']              \n",
      "                                                                                                  \n",
      " dense_19 (Dense)               (None, 256)          131328      ['dense_18[0][0]']               \n",
      "                                                                                                  \n",
      " dense_20 (Dense)               (None, 128)          32896       ['dense_19[0][0]']               \n",
      "                                                                                                  \n",
      " dense_21 (Dense)               (None, 2)            258         ['dense_20[0][0]']               \n",
      "                                                                                                  \n",
      "==================================================================================================\n",
      "Total params: 22,075,050\n",
      "Trainable params: 1,213,570\n",
      "Non-trainable params: 20,861,480\n",
      "__________________________________________________________________________________________________\n"
     ]
    }
   ],
   "source": [
    "model.summary()"
   ]
  },
  {
   "cell_type": "code",
   "execution_count": 41,
   "metadata": {
    "colab": {
     "base_uri": "https://localhost:8080/",
     "height": 728
    },
    "id": "T4ICPuFtbx8a",
    "outputId": "3d01bed5-7423-4272-915b-7fabacc49009"
   },
   "outputs": [
    {
     "name": "stdout",
     "output_type": "stream",
     "text": [
      "Epoch 1/13\n",
      "469/469 [==============================] - 1432s 3s/step - loss: 0.0458 - acc: 0.9908 - val_loss: 0.0234 - val_acc: 0.9918\n",
      "Epoch 2/13\n",
      "469/469 [==============================] - 1437s 3s/step - loss: 0.0140 - acc: 0.9959 - val_loss: 0.0202 - val_acc: 0.9950\n",
      "Epoch 3/13\n",
      "469/469 [==============================] - 1603s 3s/step - loss: 0.0095 - acc: 0.9976 - val_loss: 0.0131 - val_acc: 0.9952\n",
      "Epoch 4/13\n",
      "469/469 [==============================] - 1842s 4s/step - loss: 0.0071 - acc: 0.9979 - val_loss: 0.0182 - val_acc: 0.9938\n",
      "Epoch 5/13\n",
      "469/469 [==============================] - 1533s 3s/step - loss: 0.0063 - acc: 0.9983 - val_loss: 0.0181 - val_acc: 0.9954\n",
      "Epoch 6/13\n",
      "469/469 [==============================] - 1551s 3s/step - loss: 0.0059 - acc: 0.9981 - val_loss: 0.0133 - val_acc: 0.9958\n",
      "Epoch 7/13\n",
      "469/469 [==============================] - 1399s 3s/step - loss: 0.0059 - acc: 0.9981 - val_loss: 0.0173 - val_acc: 0.9950\n",
      "Epoch 8/13\n",
      "469/469 [==============================] - 1808s 4s/step - loss: 0.0062 - acc: 0.9983 - val_loss: 0.0137 - val_acc: 0.9958\n",
      "Epoch 9/13\n",
      "469/469 [==============================] - 1797s 4s/step - loss: 0.0064 - acc: 0.9981 - val_loss: 0.0162 - val_acc: 0.9956\n",
      "Epoch 10/13\n",
      "469/469 [==============================] - 1475s 3s/step - loss: 0.0056 - acc: 0.9980 - val_loss: 0.0111 - val_acc: 0.9960\n",
      "Epoch 11/13\n",
      "469/469 [==============================] - 1702s 4s/step - loss: 0.0057 - acc: 0.9981 - val_loss: 0.0133 - val_acc: 0.9956\n",
      "Epoch 12/13\n",
      "469/469 [==============================] - 1699s 4s/step - loss: 0.0059 - acc: 0.9981 - val_loss: 0.0165 - val_acc: 0.9948\n",
      "Epoch 13/13\n",
      "469/469 [==============================] - 2026s 4s/step - loss: 0.0060 - acc: 0.9981 - val_loss: 0.0149 - val_acc: 0.9954\n"
     ]
    }
   ],
   "source": [
    "# Fitting on the training data\n",
    "\n",
    "epochs = 13\n",
    "batch_size = 64\n",
    "\n",
    "history = model.fit(train, validation_data=valid, epochs=epochs, batch_size=batch_size, callbacks=callbacks)"
   ]
  },
  {
   "cell_type": "code",
   "execution_count": 43,
   "metadata": {
    "id": "mKVYx6JgmPBS"
   },
   "outputs": [],
   "source": [
    "tf.keras.models.save_model(model,'model_xception.hdf5')"
   ]
  },
  {
   "cell_type": "code",
   "execution_count": 44,
   "metadata": {
    "colab": {
     "base_uri": "https://localhost:8080/",
     "height": 445
    },
    "id": "Mt2whpTOb3rC",
    "outputId": "b6edad28-ea73-403c-842a-0541898cdef7"
   },
   "outputs": [
    {
     "data": {
      "text/plain": [
       "<matplotlib.legend.Legend at 0x1f42ee686d0>"
      ]
     },
     "execution_count": 44,
     "metadata": {},
     "output_type": "execute_result"
    },
    {
     "data": {
      "image/png": "[encoded data removed]",
      "text/plain": [
       "<Figure size 864x504 with 1 Axes>"
      ]
     },
     "metadata": {
      "needs_background": "light"
     },
     "output_type": "display_data"
    }
   ],
   "source": [
    "# Plotting Loss\n",
    "\n",
    "plt.plot(history.epoch, history.history['loss'], label='Training Loss')\n",
    "plt.plot(history.epoch, history.history['val_loss'], label='Validation Loss')\n",
    "plt.legend()"
   ]
  },
  {
   "cell_type": "code",
   "execution_count": 46,
   "metadata": {},
   "outputs": [
    {
     "name": "stdout",
     "output_type": "stream",
     "text": [
      "0.9980666637420654\n",
      "0.9954000115394592\n"
     ]
    }
   ],
   "source": [
    "print(history.history['acc'][12])\n",
    "print(history.history['val_acc'][12])"
   ]
  },
  {
   "cell_type": "code",
   "execution_count": 47,
   "metadata": {
    "colab": {
     "base_uri": "https://localhost:8080/",
     "height": 446
    },
    "id": "mza7O8Ydb6Fq",
    "outputId": "eb474483-2887-4dc8-9b31-3aff157b11fb"
   },
   "outputs": [
    {
     "data": {
      "text/plain": [
       "<matplotlib.legend.Legend at 0x1f446a1f1f0>"
      ]
     },
     "execution_count": 47,
     "metadata": {},
     "output_type": "execute_result"
    },
    {
     "data": {
      "image/png": "[encoded data removed]",
      "text/plain": [
       "<Figure size 864x504 with 1 Axes>"
      ]
     },
     "metadata": {
      "needs_background": "light"
     },
     "output_type": "display_data"
    }
   ],
   "source": [
    "# Plotting Accuracy\n",
    "\n",
    "x_axis = range(epochs)\n",
    "\n",
    "plt.plot(history.epoch, history.history['acc'], label='Training Accuracy')\n",
    "plt.plot(history.epoch, history.history['val_acc'], label='Validation Accuracy')\n",
    "plt.legend()"
   ]
  },
  {
   "cell_type": "code",
   "execution_count": 48,
   "metadata": {
    "id": "2w5r--4EMEN3"
   },
   "outputs": [],
   "source": [
    "# Loading the best model\n",
    "\n",
    "model.load_weights('model_weights.hdf5')"
   ]
  },
  {
   "cell_type": "code",
   "execution_count": 59,
   "metadata": {},
   "outputs": [
    {
     "name": "stdout",
     "output_type": "stream",
     "text": [
      "Found 5000 images belonging to 2 classes.\n"
     ]
    }
   ],
   "source": [
    "test_data_gen = datagen.flow_from_directory(\n",
    "    r\"D:\\sem 03\\ML Project\\crack_detection\\data\\validation\",\n",
    "   \n",
    "    seed = 88,\n",
    "    subset = 'validation',\n",
    "#     target_size = (img_h, img_w),\n",
    "    batch_size = 32\n",
    ")"
   ]
  },
  {
   "cell_type": "code",
   "execution_count": null,
   "metadata": {},
   "outputs": [],
   "source": []
  }
 ],
 "metadata": {
  "accelerator": "GPU",
  "colab": {
   "name": "Cotton_Leaf_Disease_Image_Classification_RESNET152V2.ipynb",
   "provenance": [],
   "toc_visible": true
  },
  "kernelspec": {
   "display_name": "Python 3",
   "language": "python",
   "name": "python3"
  },
  "language_info": {
   "codemirror_mode": {
    "name": "ipython",
    "version": 3
   },
   "file_extension": ".py",
   "mimetype": "text/x-python",
   "name": "python",
   "nbconvert_exporter": "python",
   "pygments_lexer": "ipython3",
   "version": "3.8.8"
  }
 },
 "nbformat": 4,
 "nbformat_minor": 1
}
